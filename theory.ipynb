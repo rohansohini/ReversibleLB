{
 "cells": [
  {
   "cell_type": "code",
   "execution_count": 3,
   "id": "1aaf93e3",
   "metadata": {},
   "outputs": [],
   "source": [
    "import numpy as np\n",
    "import sympy as sp\n",
    "import pickle\n",
    "import os"
   ]
  },
  {
   "cell_type": "code",
   "execution_count": 4,
   "id": "26f4395b",
   "metadata": {},
   "outputs": [],
   "source": [
    "# Define the output directory\n",
    "output_dir = \"./thr_output\"\n",
    "\n",
    "if not os.path.exists(output_dir):\n",
    "    os.makedirs(output_dir)"
   ]
  },
  {
   "cell_type": "code",
   "execution_count": 5,
   "id": "47a22bc0",
   "metadata": {},
   "outputs": [],
   "source": [
    "# Symbolically compute the expected value vector, µ_n = [S_n; R_n].\n",
    "\n",
    "# All theory is derived in 'Revisiting the Luria_Delbrük experiment:\n",
    "#                           The case of reversible non-genetic resistance'\n",
    "\n",
    "# p, q: real numbers in [0, 1]\n",
    "p = sp.Symbol('p', real=True, nonnegative=True) # probability of becoming resistant from sensitive\n",
    "q = sp.Symbol('q', real=True, nonnegative=True) # probability of becoming sensitive from resistant\n",
    "\n",
    "# n: integer\n",
    "n = sp.Symbol('n', integer=True, nonnegative=True) # number of generations\n",
    "\n",
    "# dphi(i)/ds is the expected number of sensitive offspring produced by a parent of the ith type\n",
    "# dphi(i)/dt is the expected number of resistant offspring produced by a parent of the ith type\n",
    "dphi1_ds = 2 * (1-p)\n",
    "dphi1_dt = 2 * p\n",
    "dphi2_ds = 2 * q\n",
    "dphi2_dt = 2 * (1-q)\n",
    "\n",
    "# matrix of expectations\n",
    "M = sp.Matrix([\n",
    "    [dphi1_ds, dphi1_dt],\n",
    "    [dphi2_ds, dphi2_dt]\n",
    "])\n",
    "\n",
    "# compute the eigenvalue, eigenvector decomposition of M^T\n",
    "# s.t. M^T = X * D * X^-1\n",
    "X, D = (M.T).diagonalize()\n",
    "X_inv = X.inv()\n",
    "\n",
    "\n",
    "# initial conditions for mean, µ0_1, µ0_2: real numbers\n",
    "mu_0_1 = sp.Symbol('mu_0_1', real=True, nonnegative=True)\n",
    "mu_0_2 = sp.Symbol('mu_0_2', real=True, nonnegative=True)\n",
    "mu_0 = sp.Matrix([[mu_0_1], [mu_0_2]])\n",
    "\n",
    "# the forrmula for expected value is µ_n = (M^T)^n * u_0\n",
    "# which can be simplified to µ_n = X * D^n * X^-1 * u_0\n",
    "# for easy computation.\n",
    "mu_n = sp.simplify(X * D**n * X_inv * mu_0)\n",
    "\n",
    "# export the symbolic expression\n",
    "with open(os.path.join(output_dir, 'mu_n.pkl'), 'wb') as file:\n",
    "    pickle.dump(mu_n, file)\n",
    "    \n",
    "# to open the expression, use:\n",
    "# ```\n",
    "# import sympy as sp\n",
    "# import pickle\n",
    "# with open('mu_n.pkl', 'rb') as file:\n",
    "#     mu_n = pickle.load(file)"
   ]
  },
  {
   "cell_type": "code",
   "execution_count": 6,
   "id": "6835532d",
   "metadata": {},
   "outputs": [
    {
     "data": {
      "text/latex": [
       "$\\displaystyle \\left[\\begin{matrix}\\frac{\\mu_{0 1} \\cdot \\left(2^{n} q + p \\left(- 2 p - 2 q + 2\\right)^{n}\\right) + \\mu_{0 2} q \\left(2^{n} - \\left(- 2 p - 2 q + 2\\right)^{n}\\right)}{p + q}\\\\\\frac{\\mu_{0 1} p \\left(2^{n} - \\left(- 2 p - 2 q + 2\\right)^{n}\\right) + \\mu_{0 2} \\cdot \\left(2^{n} p + q \\left(- 2 p - 2 q + 2\\right)^{n}\\right)}{p + q}\\end{matrix}\\right]$"
      ],
      "text/plain": [
       "Matrix([\n",
       "[(mu_0_1*(2**n*q + p*(-2*p - 2*q + 2)**n) + mu_0_2*q*(2**n - (-2*p - 2*q + 2)**n))/(p + q)],\n",
       "[(mu_0_1*p*(2**n - (-2*p - 2*q + 2)**n) + mu_0_2*(2**n*p + q*(-2*p - 2*q + 2)**n))/(p + q)]])"
      ]
     },
     "execution_count": 6,
     "metadata": {},
     "output_type": "execute_result"
    }
   ],
   "source": [
    "mu_n"
   ]
  },
  {
   "cell_type": "code",
   "execution_count": 7,
   "id": "2fdab75d",
   "metadata": {},
   "outputs": [],
   "source": [
    "# Symbolically compute the variance vector, V_n = [Var(S_n); Cov(S_n, R_n); Var(R_n)].\n",
    "# All theory is derived in 'Revisiting the Luria_Delbrük experiment:\n",
    "#                           The case of reversible non-genetic resistance'\n",
    "\n",
    "# p, q: real numbers in [0, 1]\n",
    "p = sp.Symbol('p', real=True, nonnegative=True) # probability of becoming resistant from sensitive\n",
    "q = sp.Symbol('q', real=True, nonnegative=True) # probability of becoming sensitive from resistant\n",
    "\n",
    "# n, k: integers\n",
    "n = sp.Symbol('n', integer=True, nonnegative=True) # number of generations\n",
    "k = sp.Symbol('k', integer=True, nonnegative=True) # dummy variable for n in a summation\n",
    "\n",
    "# initial conditions for mean, µ0_1, µ0_2: real numbers\n",
    "mu_0_1 = sp.Symbol('mu_0_1', real=True, nonnegative=True)\n",
    "mu_0_2 = sp.Symbol('mu_0_2', real=True, nonnegative=True)\n",
    "mu_0 = sp.Matrix([[mu_0_1], [mu_0_2]])\n",
    "\n",
    "# compute the variances/covariances for the number of offpsring produced by a single parent of type i\n",
    "# store these in the matrix Sigma\n",
    "sigmaS_1  =  4 * p * (1-p)\n",
    "sigmaSR_1 = -4 * p * (1-p)\n",
    "sigmaR_1  =  4 * p * (1-p)\n",
    "\n",
    "sigmaS_2  =  4 * q * (1-q)  \n",
    "sigmaSR_2 = -4 * q * (1-q)  \n",
    "sigmaR_2  =  4 * q * (1-q)\n",
    "\n",
    "Sigma = sp.Matrix([\n",
    "    [sigmaS_1,  sigmaS_2],\n",
    "    [sigmaSR_1, sigmaSR_2],\n",
    "    [sigmaR_1,  sigmaR_2]\n",
    "])\n",
    "\n",
    "# L matrix as defined in the theory derivations\n",
    "L = sp.Matrix([\n",
    "    [M[0,0]**2,               2*M[0,0]*M[1,0],               M[1,0]**2],\n",
    "    [M[0,0]*M[0,1],     M[0,0]*M[1,1]+M[0,1]*M[1,0],     M[1,0]*M[1,1]],\n",
    "    [M[0,1]**2,               2*M[0,1]*M[1,1],               M[1,1]**2]\n",
    "])\n",
    "\n",
    "# substitue the dummy variable k into the symbolic expression for mu_n\n",
    "mu_k = mu_n.subs({n: k})\n",
    "\n",
    "# diagonalize L to make the matrix computations (raising to power) easier\n",
    "P, W  = L.diagonalize()\n",
    "P_inv = P.inv()\n",
    "W_inv = W.inv()\n",
    "\n",
    "# initial conditions for variance, v0_1, v0_2, v0_3: real numbers\n",
    "v_0_1 = sp.Symbol('v_0_1', real=True, nonnegative=True)\n",
    "v_0_2 = sp.Symbol('v_0_2', real=True, nonnegative=True)\n",
    "v_0_3 = sp.Symbol('v_0_3', real=True, nonnegative=True)\n",
    "v_0 = sp.Matrix([[v_0_1], [v_0_2], [v_0_3]])\n",
    "\n",
    "# v_n = P * W^n(P_inv*v_0 + W_inv*∑_{k=0}^{n-1}(W^{-k} * P_inv*Sigma*X * D^k) * X_inv*µ_0)\n",
    "# we will define the summation term as sum_term and compute this first\n",
    "\n",
    "# Let's define K(mu) = W^{-k} * P_inv * Sigma * X * D^k to avoid the repeated computation\n",
    "K = W**(-k) * P_inv * Sigma * X * D**k\n",
    "\n",
    "# now compute the sum term \n",
    "# since K is a 3 x 2 matrix, compute each element of the sum separately using applyfunc\n",
    "# sp.summation only works with scalar expressions\n",
    "sum_term = K.applyfunc(lambda term: sp.summation(term, (k, 0, n - 1)))\n",
    "\n",
    "# use the sum_term to compute v_n using the formula for v_n shown above\n",
    "v_n = P * W**n * (P_inv * v_0 + W_inv * sum_term * X_inv * mu_0)\n",
    "v_n = sp.simplify(v_n)\n",
    "\n",
    "# export the symbolic expression\n",
    "with open(os.path.join(output_dir, 'v_n.pkl'), 'wb') as file:\n",
    "    pickle.dump(v_n, file)\n",
    "    \n",
    "# to open the expression, use:\n",
    "# ```\n",
    "# import sympy as sp\n",
    "# import pickle\n",
    "# with open('v_n.pkl', 'rb') as file:\n",
    "#     v_n = pickle.load(file)"
   ]
  },
  {
   "cell_type": "code",
   "execution_count": 8,
   "id": "5c82271b",
   "metadata": {},
   "outputs": [
    {
     "data": {
      "text/latex": [
       "$\\displaystyle \\left[\\begin{matrix}\\begin{cases} \\frac{4^{n} q^{2} \\left(p + q\\right)^{3} \\left(v_{0 1} + 2 v_{0 2} + v_{0 3}\\right) \\left(p^{2} + 2 p q - 2 p + q^{2} - 2 q + 1\\right) + 2 q \\left(4 \\left(- p - q + 1\\right)\\right)^{n} \\left(p + q\\right)^{3} \\left(p v_{0 1} - q v_{0 3} + v_{0 2} \\left(p - q\\right)\\right) \\left(p^{2} + 2 p q - 2 p + q^{2} - 2 q + 1\\right) + \\left(4 \\left(p^{2} + 2 p q - 2 p + q^{2} - 2 q + 1\\right)\\right)^{n} \\left(- n \\left(\\mu_{0 1} p \\left(p^{4} + 2 p^{3} q - p^{3} - p^{2} q - 2 p q^{3} + p q^{2} - q^{4} + q^{3} + q \\left(p^{3} + 3 p^{2} q - 2 p^{2} + 3 p q^{2} - 4 p q + q^{3} - 2 q^{2}\\right)\\right) + \\mu_{0 2} q \\left(- p^{4} - 2 p^{3} q + p^{3} + p^{2} q + 2 p q^{3} - p q^{2} + p \\left(p^{3} + 3 p^{2} q - 2 p^{2} + 3 p q^{2} - 4 p q + q^{3} - 2 q^{2}\\right) + q^{4} - q^{3}\\right)\\right) \\left(p^{2} + 2 p q + q^{2}\\right) + \\left(p + q\\right)^{3} \\left(p^{2} v_{0 1} - 2 p q v_{0 2} + q^{2} v_{0 3}\\right) \\left(p^{2} + 2 p q - 2 p + q^{2} - 2 q + 1\\right)\\right)}{\\left(p + q\\right)^{3} \\left(p^{2} + 2 p q + q^{2}\\right) \\left(p^{2} + 2 p q - 2 p + q^{2} - 2 q + 1\\right)} & \\text{for}\\: \\frac{1}{\\left(p + q - 1\\right)^{2}} = 2 \\wedge \\frac{1}{p + q - 1} = -2 \\\\\\frac{\\left(\\frac{1}{2 \\left(p + q - 1\\right)^{2}}\\right)^{n} \\left(q \\left(2 \\left(p + q - 1\\right)^{2}\\right)^{n} \\left(p + q\\right)^{3} \\cdot \\left(4^{n} q \\left(v_{0 1} + 2 v_{0 2} + v_{0 3}\\right) + 2 \\left(4 \\left(- p - q + 1\\right)\\right)^{n} \\left(p v_{0 1} - q v_{0 3} + v_{0 2} \\left(p - q\\right)\\right)\\right) \\left(2 \\left(p + q - 1\\right)^{2} - 1\\right) \\left(p^{2} + 2 p q - 2 p + q^{2} - 2 q + 1\\right) + \\left(4 \\left(p^{2} + 2 p q - 2 p + q^{2} - 2 q + 1\\right)\\right)^{n} \\left(\\left(2 \\left(p + q - 1\\right)^{2}\\right)^{n} \\left(p + q\\right)^{3} \\cdot \\left(2 \\left(p + q - 1\\right)^{2} - 1\\right) \\left(p^{2} v_{0 1} - 2 p q v_{0 2} + q^{2} v_{0 3}\\right) \\left(p^{2} + 2 p q - 2 p + q^{2} - 2 q + 1\\right) - \\left(\\mu_{0 1} p \\left(n \\left(2 \\left(p + q - 1\\right)^{2}\\right)^{n} \\left(2 \\left(p + q - 1\\right)^{2} - 1\\right) \\left(p^{4} + 2 p^{3} q - p^{3} - p^{2} q - 2 p q^{3} + p q^{2} - q^{4} + q^{3}\\right) + 2 q \\left(\\left(2 \\left(p + q - 1\\right)^{2}\\right)^{n} - 1\\right) \\left(p + q - 1\\right)^{2} \\left(p^{3} + 3 p^{2} q - 2 p^{2} + 3 p q^{2} - 4 p q + q^{3} - 2 q^{2}\\right)\\right) - \\mu_{0 2} q \\left(n \\left(2 \\left(p + q - 1\\right)^{2}\\right)^{n} \\left(2 \\left(p + q - 1\\right)^{2} - 1\\right) \\left(p^{4} + 2 p^{3} q - p^{3} - p^{2} q - 2 p q^{3} + p q^{2} - q^{4} + q^{3}\\right) - 2 p \\left(\\left(2 \\left(p + q - 1\\right)^{2}\\right)^{n} - 1\\right) \\left(p + q - 1\\right)^{2} \\left(p^{3} + 3 p^{2} q - 2 p^{2} + 3 p q^{2} - 4 p q + q^{3} - 2 q^{2}\\right)\\right)\\right) \\left(p^{2} + 2 p q + q^{2}\\right)\\right)\\right)}{\\left(p + q\\right)^{3} \\cdot \\left(2 \\left(p + q - 1\\right)^{2} - 1\\right) \\left(p^{2} + 2 p q + q^{2}\\right) \\left(p^{2} + 2 p q - 2 p + q^{2} - 2 q + 1\\right)} & \\text{for}\\: \\frac{1}{p + q - 1} = -2 \\\\\\frac{q \\left(p + q\\right)^{3} \\cdot \\left(4^{n} q \\left(v_{0 1} + 2 v_{0 2} + v_{0 3}\\right) + 2 \\left(4 \\left(- p - q + 1\\right)\\right)^{n} \\left(p v_{0 1} - q v_{0 3} + v_{0 2} \\left(p - q\\right)\\right)\\right) \\left(2 p + 2 q - 1\\right) \\left(p^{2} + 2 p q - 2 p + q^{2} - 2 q + 1\\right) + \\left(4 \\left(p^{2} + 2 p q - 2 p + q^{2} - 2 q + 1\\right)\\right)^{n} \\left(\\left(p + q\\right)^{3} \\cdot \\left(2 p + 2 q - 1\\right) \\left(p^{2} v_{0 1} - 2 p q v_{0 2} + q^{2} v_{0 3}\\right) \\left(p^{2} + 2 p q - 2 p + q^{2} - 2 q + 1\\right) - \\left(\\mu_{0 1} p \\left(n q \\left(2 p + 2 q - 1\\right) \\left(p^{3} + 3 p^{2} q - 2 p^{2} + 3 p q^{2} - 4 p q + q^{3} - 2 q^{2}\\right) - \\left(2 \\left(p + q - 1\\right)\\right)^{1 - n} \\left(\\left(-1\\right)^{n} - \\left(2 \\left(p + q - 1\\right)\\right)^{n}\\right) \\left(p^{4} + 2 p^{3} q - p^{3} - p^{2} q - 2 p q^{3} + p q^{2} - q^{4} + q^{3}\\right)\\right) + \\mu_{0 2} q \\left(n p \\left(2 p + 2 q - 1\\right) \\left(p^{3} + 3 p^{2} q - 2 p^{2} + 3 p q^{2} - 4 p q + q^{3} - 2 q^{2}\\right) - \\left(2 \\left(p + q - 1\\right)\\right)^{1 - n} \\left(- \\left(-1\\right)^{n} + \\left(2 \\left(p + q - 1\\right)\\right)^{n}\\right) \\left(p^{4} + 2 p^{3} q - p^{3} - p^{2} q - 2 p q^{3} + p q^{2} - q^{4} + q^{3}\\right)\\right)\\right) \\left(p^{2} + 2 p q + q^{2}\\right)\\right)}{\\left(p + q\\right)^{3} \\cdot \\left(2 p + 2 q - 1\\right) \\left(p^{2} + 2 p q + q^{2}\\right) \\left(p^{2} + 2 p q - 2 p + q^{2} - 2 q + 1\\right)} & \\text{for}\\: \\frac{1}{\\left(p + q - 1\\right)^{2}} = 2 \\\\\\frac{\\left(\\frac{1}{2 \\left(p + q - 1\\right)^{2}}\\right)^{n} \\left(q \\left(2 \\left(p + q - 1\\right)^{2}\\right)^{n} \\left(p + q\\right)^{3} \\cdot \\left(4^{n} q \\left(v_{0 1} + 2 v_{0 2} + v_{0 3}\\right) + 2 \\left(4 \\left(- p - q + 1\\right)\\right)^{n} \\left(p v_{0 1} - q v_{0 3} + v_{0 2} \\left(p - q\\right)\\right)\\right) \\left(2 \\left(p + q - 1\\right)^{2} - 1\\right) \\left(2 p + 2 q - 1\\right) \\left(p^{2} + 2 p q - 2 p + q^{2} - 2 q + 1\\right) + \\left(4 \\left(p^{2} + 2 p q - 2 p + q^{2} - 2 q + 1\\right)\\right)^{n} \\left(\\left(2 \\left(p + q - 1\\right)^{2}\\right)^{n} \\left(p + q\\right)^{3} \\cdot \\left(2 \\left(p + q - 1\\right)^{2} - 1\\right) \\left(2 p + 2 q - 1\\right) \\left(p^{2} v_{0 1} - 2 p q v_{0 2} + q^{2} v_{0 3}\\right) \\left(p^{2} + 2 p q - 2 p + q^{2} - 2 q + 1\\right) - \\left(\\mu_{0 1} p \\left(2 q \\left(\\left(2 \\left(p + q - 1\\right)^{2}\\right)^{n} - 1\\right) \\left(p + q - 1\\right)^{2} \\cdot \\left(2 p + 2 q - 1\\right) \\left(p^{3} + 3 p^{2} q - 2 p^{2} + 3 p q^{2} - 4 p q + q^{3} - 2 q^{2}\\right) - \\left(2 \\left(p + q - 1\\right)\\right)^{1 - n} \\left(2 \\left(p + q - 1\\right)^{2}\\right)^{n} \\left(\\left(-1\\right)^{n} - \\left(2 \\left(p + q - 1\\right)\\right)^{n}\\right) \\left(2 \\left(p + q - 1\\right)^{2} - 1\\right) \\left(p^{4} + 2 p^{3} q - p^{3} - p^{2} q - 2 p q^{3} + p q^{2} - q^{4} + q^{3}\\right)\\right) + \\mu_{0 2} q \\left(2 p \\left(\\left(2 \\left(p + q - 1\\right)^{2}\\right)^{n} - 1\\right) \\left(p + q - 1\\right)^{2} \\cdot \\left(2 p + 2 q - 1\\right) \\left(p^{3} + 3 p^{2} q - 2 p^{2} + 3 p q^{2} - 4 p q + q^{3} - 2 q^{2}\\right) - \\left(2 \\left(p + q - 1\\right)\\right)^{1 - n} \\left(2 \\left(p + q - 1\\right)^{2}\\right)^{n} \\left(- \\left(-1\\right)^{n} + \\left(2 \\left(p + q - 1\\right)\\right)^{n}\\right) \\left(2 \\left(p + q - 1\\right)^{2} - 1\\right) \\left(p^{4} + 2 p^{3} q - p^{3} - p^{2} q - 2 p q^{3} + p q^{2} - q^{4} + q^{3}\\right)\\right)\\right) \\left(p^{2} + 2 p q + q^{2}\\right)\\right)\\right)}{\\left(p + q\\right)^{3} \\cdot \\left(2 \\left(p + q - 1\\right)^{2} - 1\\right) \\left(2 p + 2 q - 1\\right) \\left(p^{2} + 2 p q + q^{2}\\right) \\left(p^{2} + 2 p q - 2 p + q^{2} - 2 q + 1\\right)} & \\text{otherwise} \\end{cases}\\\\\\begin{cases} \\frac{\\left(4 \\left(p^{2} + 2 p q - 2 p + q^{2} - 2 q + 1\\right)\\right)^{n} \\left(n \\left(\\mu_{0 1} p \\left(p^{4} + 2 p^{3} q - p^{3} - p^{2} q - 2 p q^{3} + p q^{2} - q^{4} + q^{3} + q \\left(p^{3} + 3 p^{2} q - 2 p^{2} + 3 p q^{2} - 4 p q + q^{3} - 2 q^{2}\\right)\\right) + \\mu_{0 2} q \\left(- p^{4} - 2 p^{3} q + p^{3} + p^{2} q + 2 p q^{3} - p q^{2} + p \\left(p^{3} + 3 p^{2} q - 2 p^{2} + 3 p q^{2} - 4 p q + q^{3} - 2 q^{2}\\right) + q^{4} - q^{3}\\right)\\right) \\left(p^{2} + 2 p q + q^{2}\\right) - \\left(p + q\\right)^{3} \\left(p^{2} v_{0 1} - 2 p q v_{0 2} + q^{2} v_{0 3}\\right) \\left(p^{2} + 2 p q - 2 p + q^{2} - 2 q + 1\\right)\\right) + \\left(p + q\\right)^{3} \\cdot \\left(4^{n} p q \\left(v_{0 1} + 2 v_{0 2} + v_{0 3}\\right) + \\left(4 \\left(- p - q + 1\\right)\\right)^{n} \\left(p - q\\right) \\left(p v_{0 1} - q v_{0 3} + v_{0 2} \\left(p - q\\right)\\right)\\right) \\left(p^{2} + 2 p q - 2 p + q^{2} - 2 q + 1\\right)}{\\left(p + q\\right)^{3} \\left(p^{2} + 2 p q + q^{2}\\right) \\left(p^{2} + 2 p q - 2 p + q^{2} - 2 q + 1\\right)} & \\text{for}\\: \\frac{1}{\\left(p + q - 1\\right)^{2}} = 2 \\wedge \\frac{1}{p + q - 1} = -2 \\\\\\frac{\\left(\\frac{1}{2 \\left(p + q - 1\\right)^{2}}\\right)^{n} \\left(\\left(2 \\left(p + q - 1\\right)^{2}\\right)^{n} \\left(p + q\\right)^{3} \\cdot \\left(4^{n} p q \\left(v_{0 1} + 2 v_{0 2} + v_{0 3}\\right) + \\left(4 \\left(- p - q + 1\\right)\\right)^{n} \\left(p - q\\right) \\left(p v_{0 1} - q v_{0 3} + v_{0 2} \\left(p - q\\right)\\right)\\right) \\left(2 \\left(p + q - 1\\right)^{2} - 1\\right) \\left(p^{2} + 2 p q - 2 p + q^{2} - 2 q + 1\\right) + \\left(4 \\left(p^{2} + 2 p q - 2 p + q^{2} - 2 q + 1\\right)\\right)^{n} \\left(- \\left(2 \\left(p + q - 1\\right)^{2}\\right)^{n} \\left(p + q\\right)^{3} \\cdot \\left(2 \\left(p + q - 1\\right)^{2} - 1\\right) \\left(p^{2} v_{0 1} - 2 p q v_{0 2} + q^{2} v_{0 3}\\right) \\left(p^{2} + 2 p q - 2 p + q^{2} - 2 q + 1\\right) + \\left(\\mu_{0 1} p \\left(n \\left(2 \\left(p + q - 1\\right)^{2}\\right)^{n} \\left(2 \\left(p + q - 1\\right)^{2} - 1\\right) \\left(p^{4} + 2 p^{3} q - p^{3} - p^{2} q - 2 p q^{3} + p q^{2} - q^{4} + q^{3}\\right) + 2 q \\left(\\left(2 \\left(p + q - 1\\right)^{2}\\right)^{n} - 1\\right) \\left(p + q - 1\\right)^{2} \\left(p^{3} + 3 p^{2} q - 2 p^{2} + 3 p q^{2} - 4 p q + q^{3} - 2 q^{2}\\right)\\right) - \\mu_{0 2} q \\left(n \\left(2 \\left(p + q - 1\\right)^{2}\\right)^{n} \\left(2 \\left(p + q - 1\\right)^{2} - 1\\right) \\left(p^{4} + 2 p^{3} q - p^{3} - p^{2} q - 2 p q^{3} + p q^{2} - q^{4} + q^{3}\\right) - 2 p \\left(\\left(2 \\left(p + q - 1\\right)^{2}\\right)^{n} - 1\\right) \\left(p + q - 1\\right)^{2} \\left(p^{3} + 3 p^{2} q - 2 p^{2} + 3 p q^{2} - 4 p q + q^{3} - 2 q^{2}\\right)\\right)\\right) \\left(p^{2} + 2 p q + q^{2}\\right)\\right)\\right)}{\\left(p + q\\right)^{3} \\cdot \\left(2 \\left(p + q - 1\\right)^{2} - 1\\right) \\left(p^{2} + 2 p q + q^{2}\\right) \\left(p^{2} + 2 p q - 2 p + q^{2} - 2 q + 1\\right)} & \\text{for}\\: \\frac{1}{p + q - 1} = -2 \\\\\\frac{\\left(4 \\left(p^{2} + 2 p q - 2 p + q^{2} - 2 q + 1\\right)\\right)^{n} \\left(- \\left(p + q\\right)^{3} \\cdot \\left(2 p + 2 q - 1\\right) \\left(p^{2} v_{0 1} - 2 p q v_{0 2} + q^{2} v_{0 3}\\right) \\left(p^{2} + 2 p q - 2 p + q^{2} - 2 q + 1\\right) + \\left(\\mu_{0 1} p \\left(n q \\left(2 p + 2 q - 1\\right) \\left(p^{3} + 3 p^{2} q - 2 p^{2} + 3 p q^{2} - 4 p q + q^{3} - 2 q^{2}\\right) - \\left(2 \\left(p + q - 1\\right)\\right)^{1 - n} \\left(\\left(-1\\right)^{n} - \\left(2 \\left(p + q - 1\\right)\\right)^{n}\\right) \\left(p^{4} + 2 p^{3} q - p^{3} - p^{2} q - 2 p q^{3} + p q^{2} - q^{4} + q^{3}\\right)\\right) + \\mu_{0 2} q \\left(n p \\left(2 p + 2 q - 1\\right) \\left(p^{3} + 3 p^{2} q - 2 p^{2} + 3 p q^{2} - 4 p q + q^{3} - 2 q^{2}\\right) + \\left(2 \\left(p + q - 1\\right)\\right)^{1 - n} \\left(\\left(-1\\right)^{n} - \\left(2 \\left(p + q - 1\\right)\\right)^{n}\\right) \\left(p^{4} + 2 p^{3} q - p^{3} - p^{2} q - 2 p q^{3} + p q^{2} - q^{4} + q^{3}\\right)\\right)\\right) \\left(p^{2} + 2 p q + q^{2}\\right)\\right) + \\left(p + q\\right)^{3} \\cdot \\left(4^{n} p q \\left(v_{0 1} + 2 v_{0 2} + v_{0 3}\\right) + \\left(4 \\left(- p - q + 1\\right)\\right)^{n} \\left(p - q\\right) \\left(p v_{0 1} - q v_{0 3} + v_{0 2} \\left(p - q\\right)\\right)\\right) \\left(2 p + 2 q - 1\\right) \\left(p^{2} + 2 p q - 2 p + q^{2} - 2 q + 1\\right)}{\\left(p + q\\right)^{3} \\cdot \\left(2 p + 2 q - 1\\right) \\left(p^{2} + 2 p q + q^{2}\\right) \\left(p^{2} + 2 p q - 2 p + q^{2} - 2 q + 1\\right)} & \\text{for}\\: \\frac{1}{\\left(p + q - 1\\right)^{2}} = 2 \\\\\\frac{\\left(\\frac{1}{2 \\left(p + q - 1\\right)^{2}}\\right)^{n} \\left(\\left(2 \\left(p + q - 1\\right)^{2}\\right)^{n} \\left(p + q\\right)^{3} \\cdot \\left(4^{n} p q \\left(v_{0 1} + 2 v_{0 2} + v_{0 3}\\right) + \\left(4 \\left(- p - q + 1\\right)\\right)^{n} \\left(p - q\\right) \\left(p v_{0 1} - q v_{0 3} + v_{0 2} \\left(p - q\\right)\\right)\\right) \\left(2 \\left(p + q - 1\\right)^{2} - 1\\right) \\left(2 p + 2 q - 1\\right) \\left(p^{2} + 2 p q - 2 p + q^{2} - 2 q + 1\\right) + \\left(4 \\left(p^{2} + 2 p q - 2 p + q^{2} - 2 q + 1\\right)\\right)^{n} \\left(- \\left(2 \\left(p + q - 1\\right)^{2}\\right)^{n} \\left(p + q\\right)^{3} \\cdot \\left(2 \\left(p + q - 1\\right)^{2} - 1\\right) \\left(2 p + 2 q - 1\\right) \\left(p^{2} v_{0 1} - 2 p q v_{0 2} + q^{2} v_{0 3}\\right) \\left(p^{2} + 2 p q - 2 p + q^{2} - 2 q + 1\\right) + \\left(\\mu_{0 1} p \\left(2 q \\left(\\left(2 \\left(p + q - 1\\right)^{2}\\right)^{n} - 1\\right) \\left(p + q - 1\\right)^{2} \\cdot \\left(2 p + 2 q - 1\\right) \\left(p^{3} + 3 p^{2} q - 2 p^{2} + 3 p q^{2} - 4 p q + q^{3} - 2 q^{2}\\right) - \\left(2 \\left(p + q - 1\\right)\\right)^{1 - n} \\left(2 \\left(p + q - 1\\right)^{2}\\right)^{n} \\left(\\left(-1\\right)^{n} - \\left(2 \\left(p + q - 1\\right)\\right)^{n}\\right) \\left(2 \\left(p + q - 1\\right)^{2} - 1\\right) \\left(p^{4} + 2 p^{3} q - p^{3} - p^{2} q - 2 p q^{3} + p q^{2} - q^{4} + q^{3}\\right)\\right) + \\mu_{0 2} q \\left(2 p \\left(\\left(2 \\left(p + q - 1\\right)^{2}\\right)^{n} - 1\\right) \\left(p + q - 1\\right)^{2} \\cdot \\left(2 p + 2 q - 1\\right) \\left(p^{3} + 3 p^{2} q - 2 p^{2} + 3 p q^{2} - 4 p q + q^{3} - 2 q^{2}\\right) + \\left(2 \\left(p + q - 1\\right)\\right)^{1 - n} \\left(2 \\left(p + q - 1\\right)^{2}\\right)^{n} \\left(\\left(-1\\right)^{n} - \\left(2 \\left(p + q - 1\\right)\\right)^{n}\\right) \\left(2 \\left(p + q - 1\\right)^{2} - 1\\right) \\left(p^{4} + 2 p^{3} q - p^{3} - p^{2} q - 2 p q^{3} + p q^{2} - q^{4} + q^{3}\\right)\\right)\\right) \\left(p^{2} + 2 p q + q^{2}\\right)\\right)\\right)}{\\left(p + q\\right)^{3} \\cdot \\left(2 \\left(p + q - 1\\right)^{2} - 1\\right) \\left(2 p + 2 q - 1\\right) \\left(p^{2} + 2 p q + q^{2}\\right) \\left(p^{2} + 2 p q - 2 p + q^{2} - 2 q + 1\\right)} & \\text{otherwise} \\end{cases}\\\\\\begin{cases} \\frac{p \\left(p + q\\right)^{3} \\cdot \\left(4^{n} p \\left(v_{0 1} + 2 v_{0 2} + v_{0 3}\\right) + 2 \\left(4 \\left(- p - q + 1\\right)\\right)^{n} \\left(- p v_{0 1} + q v_{0 3} - v_{0 2} \\left(p - q\\right)\\right)\\right) \\left(p^{2} + 2 p q - 2 p + q^{2} - 2 q + 1\\right) + \\left(4 \\left(p^{2} + 2 p q - 2 p + q^{2} - 2 q + 1\\right)\\right)^{n} \\left(- n \\left(\\mu_{0 1} p \\left(p^{4} + 2 p^{3} q - p^{3} - p^{2} q - 2 p q^{3} + p q^{2} - q^{4} + q^{3} + q \\left(p^{3} + 3 p^{2} q - 2 p^{2} + 3 p q^{2} - 4 p q + q^{3} - 2 q^{2}\\right)\\right) + \\mu_{0 2} q \\left(- p^{4} - 2 p^{3} q + p^{3} + p^{2} q + 2 p q^{3} - p q^{2} + p \\left(p^{3} + 3 p^{2} q - 2 p^{2} + 3 p q^{2} - 4 p q + q^{3} - 2 q^{2}\\right) + q^{4} - q^{3}\\right)\\right) \\left(p^{2} + 2 p q + q^{2}\\right) + \\left(p + q\\right)^{3} \\left(p^{2} v_{0 1} - 2 p q v_{0 2} + q^{2} v_{0 3}\\right) \\left(p^{2} + 2 p q - 2 p + q^{2} - 2 q + 1\\right)\\right)}{\\left(p + q\\right)^{3} \\left(p^{2} + 2 p q + q^{2}\\right) \\left(p^{2} + 2 p q - 2 p + q^{2} - 2 q + 1\\right)} & \\text{for}\\: \\frac{1}{\\left(p + q - 1\\right)^{2}} = 2 \\wedge \\frac{1}{p + q - 1} = -2 \\\\\\frac{\\left(\\frac{1}{2 \\left(p + q - 1\\right)^{2}}\\right)^{n} \\left(p \\left(2 \\left(p + q - 1\\right)^{2}\\right)^{n} \\left(p + q\\right)^{3} \\cdot \\left(4^{n} p \\left(v_{0 1} + 2 v_{0 2} + v_{0 3}\\right) + 2 \\left(4 \\left(- p - q + 1\\right)\\right)^{n} \\left(- p v_{0 1} + q v_{0 3} - v_{0 2} \\left(p - q\\right)\\right)\\right) \\left(2 \\left(p + q - 1\\right)^{2} - 1\\right) \\left(p^{2} + 2 p q - 2 p + q^{2} - 2 q + 1\\right) + \\left(4 \\left(p^{2} + 2 p q - 2 p + q^{2} - 2 q + 1\\right)\\right)^{n} \\left(\\left(2 \\left(p + q - 1\\right)^{2}\\right)^{n} \\left(p + q\\right)^{3} \\cdot \\left(2 \\left(p + q - 1\\right)^{2} - 1\\right) \\left(p^{2} v_{0 1} - 2 p q v_{0 2} + q^{2} v_{0 3}\\right) \\left(p^{2} + 2 p q - 2 p + q^{2} - 2 q + 1\\right) - \\left(\\mu_{0 1} p \\left(n \\left(2 \\left(p + q - 1\\right)^{2}\\right)^{n} \\left(2 \\left(p + q - 1\\right)^{2} - 1\\right) \\left(p^{4} + 2 p^{3} q - p^{3} - p^{2} q - 2 p q^{3} + p q^{2} - q^{4} + q^{3}\\right) + 2 q \\left(\\left(2 \\left(p + q - 1\\right)^{2}\\right)^{n} - 1\\right) \\left(p + q - 1\\right)^{2} \\left(p^{3} + 3 p^{2} q - 2 p^{2} + 3 p q^{2} - 4 p q + q^{3} - 2 q^{2}\\right)\\right) - \\mu_{0 2} q \\left(n \\left(2 \\left(p + q - 1\\right)^{2}\\right)^{n} \\left(2 \\left(p + q - 1\\right)^{2} - 1\\right) \\left(p^{4} + 2 p^{3} q - p^{3} - p^{2} q - 2 p q^{3} + p q^{2} - q^{4} + q^{3}\\right) - 2 p \\left(\\left(2 \\left(p + q - 1\\right)^{2}\\right)^{n} - 1\\right) \\left(p + q - 1\\right)^{2} \\left(p^{3} + 3 p^{2} q - 2 p^{2} + 3 p q^{2} - 4 p q + q^{3} - 2 q^{2}\\right)\\right)\\right) \\left(p^{2} + 2 p q + q^{2}\\right)\\right)\\right)}{\\left(p + q\\right)^{3} \\cdot \\left(2 \\left(p + q - 1\\right)^{2} - 1\\right) \\left(p^{2} + 2 p q + q^{2}\\right) \\left(p^{2} + 2 p q - 2 p + q^{2} - 2 q + 1\\right)} & \\text{for}\\: \\frac{1}{p + q - 1} = -2 \\\\\\frac{p \\left(p + q\\right)^{3} \\cdot \\left(4^{n} p \\left(v_{0 1} + 2 v_{0 2} + v_{0 3}\\right) + 2 \\left(4 \\left(- p - q + 1\\right)\\right)^{n} \\left(- p v_{0 1} + q v_{0 3} - v_{0 2} \\left(p - q\\right)\\right)\\right) \\left(2 p + 2 q - 1\\right) \\left(p^{2} + 2 p q - 2 p + q^{2} - 2 q + 1\\right) + \\left(4 \\left(p^{2} + 2 p q - 2 p + q^{2} - 2 q + 1\\right)\\right)^{n} \\left(\\left(p + q\\right)^{3} \\cdot \\left(2 p + 2 q - 1\\right) \\left(p^{2} v_{0 1} - 2 p q v_{0 2} + q^{2} v_{0 3}\\right) \\left(p^{2} + 2 p q - 2 p + q^{2} - 2 q + 1\\right) - \\left(\\mu_{0 1} p \\left(n q \\left(2 p + 2 q - 1\\right) \\left(p^{3} + 3 p^{2} q - 2 p^{2} + 3 p q^{2} - 4 p q + q^{3} - 2 q^{2}\\right) - \\left(2 \\left(p + q - 1\\right)\\right)^{1 - n} \\left(\\left(-1\\right)^{n} - \\left(2 \\left(p + q - 1\\right)\\right)^{n}\\right) \\left(p^{4} + 2 p^{3} q - p^{3} - p^{2} q - 2 p q^{3} + p q^{2} - q^{4} + q^{3}\\right)\\right) + \\mu_{0 2} q \\left(n p \\left(2 p + 2 q - 1\\right) \\left(p^{3} + 3 p^{2} q - 2 p^{2} + 3 p q^{2} - 4 p q + q^{3} - 2 q^{2}\\right) - \\left(2 \\left(p + q - 1\\right)\\right)^{1 - n} \\left(- \\left(-1\\right)^{n} + \\left(2 \\left(p + q - 1\\right)\\right)^{n}\\right) \\left(p^{4} + 2 p^{3} q - p^{3} - p^{2} q - 2 p q^{3} + p q^{2} - q^{4} + q^{3}\\right)\\right)\\right) \\left(p^{2} + 2 p q + q^{2}\\right)\\right)}{\\left(p + q\\right)^{3} \\cdot \\left(2 p + 2 q - 1\\right) \\left(p^{2} + 2 p q + q^{2}\\right) \\left(p^{2} + 2 p q - 2 p + q^{2} - 2 q + 1\\right)} & \\text{for}\\: \\frac{1}{\\left(p + q - 1\\right)^{2}} = 2 \\\\\\frac{\\left(\\frac{1}{2 \\left(p + q - 1\\right)^{2}}\\right)^{n} \\left(p \\left(2 \\left(p + q - 1\\right)^{2}\\right)^{n} \\left(p + q\\right)^{3} \\cdot \\left(4^{n} p \\left(v_{0 1} + 2 v_{0 2} + v_{0 3}\\right) + 2 \\left(4 \\left(- p - q + 1\\right)\\right)^{n} \\left(- p v_{0 1} + q v_{0 3} - v_{0 2} \\left(p - q\\right)\\right)\\right) \\left(2 \\left(p + q - 1\\right)^{2} - 1\\right) \\left(2 p + 2 q - 1\\right) \\left(p^{2} + 2 p q - 2 p + q^{2} - 2 q + 1\\right) + \\left(4 \\left(p^{2} + 2 p q - 2 p + q^{2} - 2 q + 1\\right)\\right)^{n} \\left(\\left(2 \\left(p + q - 1\\right)^{2}\\right)^{n} \\left(p + q\\right)^{3} \\cdot \\left(2 \\left(p + q - 1\\right)^{2} - 1\\right) \\left(2 p + 2 q - 1\\right) \\left(p^{2} v_{0 1} - 2 p q v_{0 2} + q^{2} v_{0 3}\\right) \\left(p^{2} + 2 p q - 2 p + q^{2} - 2 q + 1\\right) - \\left(\\mu_{0 1} p \\left(2 q \\left(\\left(2 \\left(p + q - 1\\right)^{2}\\right)^{n} - 1\\right) \\left(p + q - 1\\right)^{2} \\cdot \\left(2 p + 2 q - 1\\right) \\left(p^{3} + 3 p^{2} q - 2 p^{2} + 3 p q^{2} - 4 p q + q^{3} - 2 q^{2}\\right) - \\left(2 \\left(p + q - 1\\right)\\right)^{1 - n} \\left(2 \\left(p + q - 1\\right)^{2}\\right)^{n} \\left(\\left(-1\\right)^{n} - \\left(2 \\left(p + q - 1\\right)\\right)^{n}\\right) \\left(2 \\left(p + q - 1\\right)^{2} - 1\\right) \\left(p^{4} + 2 p^{3} q - p^{3} - p^{2} q - 2 p q^{3} + p q^{2} - q^{4} + q^{3}\\right)\\right) + \\mu_{0 2} q \\left(2 p \\left(\\left(2 \\left(p + q - 1\\right)^{2}\\right)^{n} - 1\\right) \\left(p + q - 1\\right)^{2} \\cdot \\left(2 p + 2 q - 1\\right) \\left(p^{3} + 3 p^{2} q - 2 p^{2} + 3 p q^{2} - 4 p q + q^{3} - 2 q^{2}\\right) - \\left(2 \\left(p + q - 1\\right)\\right)^{1 - n} \\left(2 \\left(p + q - 1\\right)^{2}\\right)^{n} \\left(- \\left(-1\\right)^{n} + \\left(2 \\left(p + q - 1\\right)\\right)^{n}\\right) \\left(2 \\left(p + q - 1\\right)^{2} - 1\\right) \\left(p^{4} + 2 p^{3} q - p^{3} - p^{2} q - 2 p q^{3} + p q^{2} - q^{4} + q^{3}\\right)\\right)\\right) \\left(p^{2} + 2 p q + q^{2}\\right)\\right)\\right)}{\\left(p + q\\right)^{3} \\cdot \\left(2 \\left(p + q - 1\\right)^{2} - 1\\right) \\left(2 p + 2 q - 1\\right) \\left(p^{2} + 2 p q + q^{2}\\right) \\left(p^{2} + 2 p q - 2 p + q^{2} - 2 q + 1\\right)} & \\text{otherwise} \\end{cases}\\end{matrix}\\right]$"
      ],
      "text/plain": [
       "Matrix([\n",
       "[Piecewise(((4**n*q**2*(p + q)**3*(v_0_1 + 2*v_0_2 + v_0_3)*(p**2 + 2*p*q - 2*p + q**2 - 2*q + 1) + 2*q*(4*(-p - q + 1))**n*(p + q)**3*(p*v_0_1 - q*v_0_3 + v_0_2*(p - q))*(p**2 + 2*p*q - 2*p + q**2 - 2*q + 1) + (4*(p**2 + 2*p*q - 2*p + q**2 - 2*q + 1))**n*(-n*(mu_0_1*p*(p**4 + 2*p**3*q - p**3 - p**2*q - 2*p*q**3 + p*q**2 - q**4 + q**3 + q*(p**3 + 3*p**2*q - 2*p**2 + 3*p*q**2 - 4*p*q + q**3 - 2*q**2)) + mu_0_2*q*(-p**4 - 2*p**3*q + p**3 + p**2*q + 2*p*q**3 - p*q**2 + p*(p**3 + 3*p**2*q - 2*p**2 + 3*p*q**2 - 4*p*q + q**3 - 2*q**2) + q**4 - q**3))*(p**2 + 2*p*q + q**2) + (p + q)**3*(p**2*v_0_1 - 2*p*q*v_0_2 + q**2*v_0_3)*(p**2 + 2*p*q - 2*p + q**2 - 2*q + 1)))/((p + q)**3*(p**2 + 2*p*q + q**2)*(p**2 + 2*p*q - 2*p + q**2 - 2*q + 1)), Eq((p + q - 1)**(-2), 2) & Eq(1/(p + q - 1), -2)), ((1/(2*(p + q - 1)**2))**n*(q*(2*(p + q - 1)**2)**n*(p + q)**3*(4**n*q*(v_0_1 + 2*v_0_2 + v_0_3) + 2*(4*(-p - q + 1))**n*(p*v_0_1 - q*v_0_3 + v_0_2*(p - q)))*(2*(p + q - 1)**2 - 1)*(p**2 + 2*p*q - 2*p + q**2 - 2*q + 1) + (4*(p**2 + 2*p*q - 2*p + q**2 - 2*q + 1))**n*((2*(p + q - 1)**2)**n*(p + q)**3*(2*(p + q - 1)**2 - 1)*(p**2*v_0_1 - 2*p*q*v_0_2 + q**2*v_0_3)*(p**2 + 2*p*q - 2*p + q**2 - 2*q + 1) - (mu_0_1*p*(n*(2*(p + q - 1)**2)**n*(2*(p + q - 1)**2 - 1)*(p**4 + 2*p**3*q - p**3 - p**2*q - 2*p*q**3 + p*q**2 - q**4 + q**3) + 2*q*((2*(p + q - 1)**2)**n - 1)*(p + q - 1)**2*(p**3 + 3*p**2*q - 2*p**2 + 3*p*q**2 - 4*p*q + q**3 - 2*q**2)) - mu_0_2*q*(n*(2*(p + q - 1)**2)**n*(2*(p + q - 1)**2 - 1)*(p**4 + 2*p**3*q - p**3 - p**2*q - 2*p*q**3 + p*q**2 - q**4 + q**3) - 2*p*((2*(p + q - 1)**2)**n - 1)*(p + q - 1)**2*(p**3 + 3*p**2*q - 2*p**2 + 3*p*q**2 - 4*p*q + q**3 - 2*q**2)))*(p**2 + 2*p*q + q**2)))/((p + q)**3*(2*(p + q - 1)**2 - 1)*(p**2 + 2*p*q + q**2)*(p**2 + 2*p*q - 2*p + q**2 - 2*q + 1)), Eq(1/(p + q - 1), -2)), ((q*(p + q)**3*(4**n*q*(v_0_1 + 2*v_0_2 + v_0_3) + 2*(4*(-p - q + 1))**n*(p*v_0_1 - q*v_0_3 + v_0_2*(p - q)))*(2*p + 2*q - 1)*(p**2 + 2*p*q - 2*p + q**2 - 2*q + 1) + (4*(p**2 + 2*p*q - 2*p + q**2 - 2*q + 1))**n*((p + q)**3*(2*p + 2*q - 1)*(p**2*v_0_1 - 2*p*q*v_0_2 + q**2*v_0_3)*(p**2 + 2*p*q - 2*p + q**2 - 2*q + 1) - (mu_0_1*p*(n*q*(2*p + 2*q - 1)*(p**3 + 3*p**2*q - 2*p**2 + 3*p*q**2 - 4*p*q + q**3 - 2*q**2) - (2*(p + q - 1))**(1 - n)*((-1)**n - (2*(p + q - 1))**n)*(p**4 + 2*p**3*q - p**3 - p**2*q - 2*p*q**3 + p*q**2 - q**4 + q**3)) + mu_0_2*q*(n*p*(2*p + 2*q - 1)*(p**3 + 3*p**2*q - 2*p**2 + 3*p*q**2 - 4*p*q + q**3 - 2*q**2) - (2*(p + q - 1))**(1 - n)*(-(-1)**n + (2*(p + q - 1))**n)*(p**4 + 2*p**3*q - p**3 - p**2*q - 2*p*q**3 + p*q**2 - q**4 + q**3)))*(p**2 + 2*p*q + q**2)))/((p + q)**3*(2*p + 2*q - 1)*(p**2 + 2*p*q + q**2)*(p**2 + 2*p*q - 2*p + q**2 - 2*q + 1)), Eq((p + q - 1)**(-2), 2)), ((1/(2*(p + q - 1)**2))**n*(q*(2*(p + q - 1)**2)**n*(p + q)**3*(4**n*q*(v_0_1 + 2*v_0_2 + v_0_3) + 2*(4*(-p - q + 1))**n*(p*v_0_1 - q*v_0_3 + v_0_2*(p - q)))*(2*(p + q - 1)**2 - 1)*(2*p + 2*q - 1)*(p**2 + 2*p*q - 2*p + q**2 - 2*q + 1) + (4*(p**2 + 2*p*q - 2*p + q**2 - 2*q + 1))**n*((2*(p + q - 1)**2)**n*(p + q)**3*(2*(p + q - 1)**2 - 1)*(2*p + 2*q - 1)*(p**2*v_0_1 - 2*p*q*v_0_2 + q**2*v_0_3)*(p**2 + 2*p*q - 2*p + q**2 - 2*q + 1) - (mu_0_1*p*(2*q*((2*(p + q - 1)**2)**n - 1)*(p + q - 1)**2*(2*p + 2*q - 1)*(p**3 + 3*p**2*q - 2*p**2 + 3*p*q**2 - 4*p*q + q**3 - 2*q**2) - (2*(p + q - 1))**(1 - n)*(2*(p + q - 1)**2)**n*((-1)**n - (2*(p + q - 1))**n)*(2*(p + q - 1)**2 - 1)*(p**4 + 2*p**3*q - p**3 - p**2*q - 2*p*q**3 + p*q**2 - q**4 + q**3)) + mu_0_2*q*(2*p*((2*(p + q - 1)**2)**n - 1)*(p + q - 1)**2*(2*p + 2*q - 1)*(p**3 + 3*p**2*q - 2*p**2 + 3*p*q**2 - 4*p*q + q**3 - 2*q**2) - (2*(p + q - 1))**(1 - n)*(2*(p + q - 1)**2)**n*(-(-1)**n + (2*(p + q - 1))**n)*(2*(p + q - 1)**2 - 1)*(p**4 + 2*p**3*q - p**3 - p**2*q - 2*p*q**3 + p*q**2 - q**4 + q**3)))*(p**2 + 2*p*q + q**2)))/((p + q)**3*(2*(p + q - 1)**2 - 1)*(2*p + 2*q - 1)*(p**2 + 2*p*q + q**2)*(p**2 + 2*p*q - 2*p + q**2 - 2*q + 1)), True))],\n",
       "[                          Piecewise((((4*(p**2 + 2*p*q - 2*p + q**2 - 2*q + 1))**n*(n*(mu_0_1*p*(p**4 + 2*p**3*q - p**3 - p**2*q - 2*p*q**3 + p*q**2 - q**4 + q**3 + q*(p**3 + 3*p**2*q - 2*p**2 + 3*p*q**2 - 4*p*q + q**3 - 2*q**2)) + mu_0_2*q*(-p**4 - 2*p**3*q + p**3 + p**2*q + 2*p*q**3 - p*q**2 + p*(p**3 + 3*p**2*q - 2*p**2 + 3*p*q**2 - 4*p*q + q**3 - 2*q**2) + q**4 - q**3))*(p**2 + 2*p*q + q**2) - (p + q)**3*(p**2*v_0_1 - 2*p*q*v_0_2 + q**2*v_0_3)*(p**2 + 2*p*q - 2*p + q**2 - 2*q + 1)) + (p + q)**3*(4**n*p*q*(v_0_1 + 2*v_0_2 + v_0_3) + (4*(-p - q + 1))**n*(p - q)*(p*v_0_1 - q*v_0_3 + v_0_2*(p - q)))*(p**2 + 2*p*q - 2*p + q**2 - 2*q + 1))/((p + q)**3*(p**2 + 2*p*q + q**2)*(p**2 + 2*p*q - 2*p + q**2 - 2*q + 1)), Eq((p + q - 1)**(-2), 2) & Eq(1/(p + q - 1), -2)), ((1/(2*(p + q - 1)**2))**n*((2*(p + q - 1)**2)**n*(p + q)**3*(4**n*p*q*(v_0_1 + 2*v_0_2 + v_0_3) + (4*(-p - q + 1))**n*(p - q)*(p*v_0_1 - q*v_0_3 + v_0_2*(p - q)))*(2*(p + q - 1)**2 - 1)*(p**2 + 2*p*q - 2*p + q**2 - 2*q + 1) + (4*(p**2 + 2*p*q - 2*p + q**2 - 2*q + 1))**n*(-(2*(p + q - 1)**2)**n*(p + q)**3*(2*(p + q - 1)**2 - 1)*(p**2*v_0_1 - 2*p*q*v_0_2 + q**2*v_0_3)*(p**2 + 2*p*q - 2*p + q**2 - 2*q + 1) + (mu_0_1*p*(n*(2*(p + q - 1)**2)**n*(2*(p + q - 1)**2 - 1)*(p**4 + 2*p**3*q - p**3 - p**2*q - 2*p*q**3 + p*q**2 - q**4 + q**3) + 2*q*((2*(p + q - 1)**2)**n - 1)*(p + q - 1)**2*(p**3 + 3*p**2*q - 2*p**2 + 3*p*q**2 - 4*p*q + q**3 - 2*q**2)) - mu_0_2*q*(n*(2*(p + q - 1)**2)**n*(2*(p + q - 1)**2 - 1)*(p**4 + 2*p**3*q - p**3 - p**2*q - 2*p*q**3 + p*q**2 - q**4 + q**3) - 2*p*((2*(p + q - 1)**2)**n - 1)*(p + q - 1)**2*(p**3 + 3*p**2*q - 2*p**2 + 3*p*q**2 - 4*p*q + q**3 - 2*q**2)))*(p**2 + 2*p*q + q**2)))/((p + q)**3*(2*(p + q - 1)**2 - 1)*(p**2 + 2*p*q + q**2)*(p**2 + 2*p*q - 2*p + q**2 - 2*q + 1)), Eq(1/(p + q - 1), -2)), (((4*(p**2 + 2*p*q - 2*p + q**2 - 2*q + 1))**n*(-(p + q)**3*(2*p + 2*q - 1)*(p**2*v_0_1 - 2*p*q*v_0_2 + q**2*v_0_3)*(p**2 + 2*p*q - 2*p + q**2 - 2*q + 1) + (mu_0_1*p*(n*q*(2*p + 2*q - 1)*(p**3 + 3*p**2*q - 2*p**2 + 3*p*q**2 - 4*p*q + q**3 - 2*q**2) - (2*(p + q - 1))**(1 - n)*((-1)**n - (2*(p + q - 1))**n)*(p**4 + 2*p**3*q - p**3 - p**2*q - 2*p*q**3 + p*q**2 - q**4 + q**3)) + mu_0_2*q*(n*p*(2*p + 2*q - 1)*(p**3 + 3*p**2*q - 2*p**2 + 3*p*q**2 - 4*p*q + q**3 - 2*q**2) + (2*(p + q - 1))**(1 - n)*((-1)**n - (2*(p + q - 1))**n)*(p**4 + 2*p**3*q - p**3 - p**2*q - 2*p*q**3 + p*q**2 - q**4 + q**3)))*(p**2 + 2*p*q + q**2)) + (p + q)**3*(4**n*p*q*(v_0_1 + 2*v_0_2 + v_0_3) + (4*(-p - q + 1))**n*(p - q)*(p*v_0_1 - q*v_0_3 + v_0_2*(p - q)))*(2*p + 2*q - 1)*(p**2 + 2*p*q - 2*p + q**2 - 2*q + 1))/((p + q)**3*(2*p + 2*q - 1)*(p**2 + 2*p*q + q**2)*(p**2 + 2*p*q - 2*p + q**2 - 2*q + 1)), Eq((p + q - 1)**(-2), 2)), ((1/(2*(p + q - 1)**2))**n*((2*(p + q - 1)**2)**n*(p + q)**3*(4**n*p*q*(v_0_1 + 2*v_0_2 + v_0_3) + (4*(-p - q + 1))**n*(p - q)*(p*v_0_1 - q*v_0_3 + v_0_2*(p - q)))*(2*(p + q - 1)**2 - 1)*(2*p + 2*q - 1)*(p**2 + 2*p*q - 2*p + q**2 - 2*q + 1) + (4*(p**2 + 2*p*q - 2*p + q**2 - 2*q + 1))**n*(-(2*(p + q - 1)**2)**n*(p + q)**3*(2*(p + q - 1)**2 - 1)*(2*p + 2*q - 1)*(p**2*v_0_1 - 2*p*q*v_0_2 + q**2*v_0_3)*(p**2 + 2*p*q - 2*p + q**2 - 2*q + 1) + (mu_0_1*p*(2*q*((2*(p + q - 1)**2)**n - 1)*(p + q - 1)**2*(2*p + 2*q - 1)*(p**3 + 3*p**2*q - 2*p**2 + 3*p*q**2 - 4*p*q + q**3 - 2*q**2) - (2*(p + q - 1))**(1 - n)*(2*(p + q - 1)**2)**n*((-1)**n - (2*(p + q - 1))**n)*(2*(p + q - 1)**2 - 1)*(p**4 + 2*p**3*q - p**3 - p**2*q - 2*p*q**3 + p*q**2 - q**4 + q**3)) + mu_0_2*q*(2*p*((2*(p + q - 1)**2)**n - 1)*(p + q - 1)**2*(2*p + 2*q - 1)*(p**3 + 3*p**2*q - 2*p**2 + 3*p*q**2 - 4*p*q + q**3 - 2*q**2) + (2*(p + q - 1))**(1 - n)*(2*(p + q - 1)**2)**n*((-1)**n - (2*(p + q - 1))**n)*(2*(p + q - 1)**2 - 1)*(p**4 + 2*p**3*q - p**3 - p**2*q - 2*p*q**3 + p*q**2 - q**4 + q**3)))*(p**2 + 2*p*q + q**2)))/((p + q)**3*(2*(p + q - 1)**2 - 1)*(2*p + 2*q - 1)*(p**2 + 2*p*q + q**2)*(p**2 + 2*p*q - 2*p + q**2 - 2*q + 1)), True))],\n",
       "[                                              Piecewise(((p*(p + q)**3*(4**n*p*(v_0_1 + 2*v_0_2 + v_0_3) + 2*(4*(-p - q + 1))**n*(-p*v_0_1 + q*v_0_3 - v_0_2*(p - q)))*(p**2 + 2*p*q - 2*p + q**2 - 2*q + 1) + (4*(p**2 + 2*p*q - 2*p + q**2 - 2*q + 1))**n*(-n*(mu_0_1*p*(p**4 + 2*p**3*q - p**3 - p**2*q - 2*p*q**3 + p*q**2 - q**4 + q**3 + q*(p**3 + 3*p**2*q - 2*p**2 + 3*p*q**2 - 4*p*q + q**3 - 2*q**2)) + mu_0_2*q*(-p**4 - 2*p**3*q + p**3 + p**2*q + 2*p*q**3 - p*q**2 + p*(p**3 + 3*p**2*q - 2*p**2 + 3*p*q**2 - 4*p*q + q**3 - 2*q**2) + q**4 - q**3))*(p**2 + 2*p*q + q**2) + (p + q)**3*(p**2*v_0_1 - 2*p*q*v_0_2 + q**2*v_0_3)*(p**2 + 2*p*q - 2*p + q**2 - 2*q + 1)))/((p + q)**3*(p**2 + 2*p*q + q**2)*(p**2 + 2*p*q - 2*p + q**2 - 2*q + 1)), Eq((p + q - 1)**(-2), 2) & Eq(1/(p + q - 1), -2)), ((1/(2*(p + q - 1)**2))**n*(p*(2*(p + q - 1)**2)**n*(p + q)**3*(4**n*p*(v_0_1 + 2*v_0_2 + v_0_3) + 2*(4*(-p - q + 1))**n*(-p*v_0_1 + q*v_0_3 - v_0_2*(p - q)))*(2*(p + q - 1)**2 - 1)*(p**2 + 2*p*q - 2*p + q**2 - 2*q + 1) + (4*(p**2 + 2*p*q - 2*p + q**2 - 2*q + 1))**n*((2*(p + q - 1)**2)**n*(p + q)**3*(2*(p + q - 1)**2 - 1)*(p**2*v_0_1 - 2*p*q*v_0_2 + q**2*v_0_3)*(p**2 + 2*p*q - 2*p + q**2 - 2*q + 1) - (mu_0_1*p*(n*(2*(p + q - 1)**2)**n*(2*(p + q - 1)**2 - 1)*(p**4 + 2*p**3*q - p**3 - p**2*q - 2*p*q**3 + p*q**2 - q**4 + q**3) + 2*q*((2*(p + q - 1)**2)**n - 1)*(p + q - 1)**2*(p**3 + 3*p**2*q - 2*p**2 + 3*p*q**2 - 4*p*q + q**3 - 2*q**2)) - mu_0_2*q*(n*(2*(p + q - 1)**2)**n*(2*(p + q - 1)**2 - 1)*(p**4 + 2*p**3*q - p**3 - p**2*q - 2*p*q**3 + p*q**2 - q**4 + q**3) - 2*p*((2*(p + q - 1)**2)**n - 1)*(p + q - 1)**2*(p**3 + 3*p**2*q - 2*p**2 + 3*p*q**2 - 4*p*q + q**3 - 2*q**2)))*(p**2 + 2*p*q + q**2)))/((p + q)**3*(2*(p + q - 1)**2 - 1)*(p**2 + 2*p*q + q**2)*(p**2 + 2*p*q - 2*p + q**2 - 2*q + 1)), Eq(1/(p + q - 1), -2)), ((p*(p + q)**3*(4**n*p*(v_0_1 + 2*v_0_2 + v_0_3) + 2*(4*(-p - q + 1))**n*(-p*v_0_1 + q*v_0_3 - v_0_2*(p - q)))*(2*p + 2*q - 1)*(p**2 + 2*p*q - 2*p + q**2 - 2*q + 1) + (4*(p**2 + 2*p*q - 2*p + q**2 - 2*q + 1))**n*((p + q)**3*(2*p + 2*q - 1)*(p**2*v_0_1 - 2*p*q*v_0_2 + q**2*v_0_3)*(p**2 + 2*p*q - 2*p + q**2 - 2*q + 1) - (mu_0_1*p*(n*q*(2*p + 2*q - 1)*(p**3 + 3*p**2*q - 2*p**2 + 3*p*q**2 - 4*p*q + q**3 - 2*q**2) - (2*(p + q - 1))**(1 - n)*((-1)**n - (2*(p + q - 1))**n)*(p**4 + 2*p**3*q - p**3 - p**2*q - 2*p*q**3 + p*q**2 - q**4 + q**3)) + mu_0_2*q*(n*p*(2*p + 2*q - 1)*(p**3 + 3*p**2*q - 2*p**2 + 3*p*q**2 - 4*p*q + q**3 - 2*q**2) - (2*(p + q - 1))**(1 - n)*(-(-1)**n + (2*(p + q - 1))**n)*(p**4 + 2*p**3*q - p**3 - p**2*q - 2*p*q**3 + p*q**2 - q**4 + q**3)))*(p**2 + 2*p*q + q**2)))/((p + q)**3*(2*p + 2*q - 1)*(p**2 + 2*p*q + q**2)*(p**2 + 2*p*q - 2*p + q**2 - 2*q + 1)), Eq((p + q - 1)**(-2), 2)), ((1/(2*(p + q - 1)**2))**n*(p*(2*(p + q - 1)**2)**n*(p + q)**3*(4**n*p*(v_0_1 + 2*v_0_2 + v_0_3) + 2*(4*(-p - q + 1))**n*(-p*v_0_1 + q*v_0_3 - v_0_2*(p - q)))*(2*(p + q - 1)**2 - 1)*(2*p + 2*q - 1)*(p**2 + 2*p*q - 2*p + q**2 - 2*q + 1) + (4*(p**2 + 2*p*q - 2*p + q**2 - 2*q + 1))**n*((2*(p + q - 1)**2)**n*(p + q)**3*(2*(p + q - 1)**2 - 1)*(2*p + 2*q - 1)*(p**2*v_0_1 - 2*p*q*v_0_2 + q**2*v_0_3)*(p**2 + 2*p*q - 2*p + q**2 - 2*q + 1) - (mu_0_1*p*(2*q*((2*(p + q - 1)**2)**n - 1)*(p + q - 1)**2*(2*p + 2*q - 1)*(p**3 + 3*p**2*q - 2*p**2 + 3*p*q**2 - 4*p*q + q**3 - 2*q**2) - (2*(p + q - 1))**(1 - n)*(2*(p + q - 1)**2)**n*((-1)**n - (2*(p + q - 1))**n)*(2*(p + q - 1)**2 - 1)*(p**4 + 2*p**3*q - p**3 - p**2*q - 2*p*q**3 + p*q**2 - q**4 + q**3)) + mu_0_2*q*(2*p*((2*(p + q - 1)**2)**n - 1)*(p + q - 1)**2*(2*p + 2*q - 1)*(p**3 + 3*p**2*q - 2*p**2 + 3*p*q**2 - 4*p*q + q**3 - 2*q**2) - (2*(p + q - 1))**(1 - n)*(2*(p + q - 1)**2)**n*(-(-1)**n + (2*(p + q - 1))**n)*(2*(p + q - 1)**2 - 1)*(p**4 + 2*p**3*q - p**3 - p**2*q - 2*p*q**3 + p*q**2 - q**4 + q**3)))*(p**2 + 2*p*q + q**2)))/((p + q)**3*(2*(p + q - 1)**2 - 1)*(2*p + 2*q - 1)*(p**2 + 2*p*q + q**2)*(p**2 + 2*p*q - 2*p + q**2 - 2*q + 1)), True))]])"
      ]
     },
     "execution_count": 8,
     "metadata": {},
     "output_type": "execute_result"
    }
   ],
   "source": [
    "v_n"
   ]
  }
 ],
 "metadata": {
  "kernelspec": {
   "display_name": "base",
   "language": "python",
   "name": "python3"
  },
  "language_info": {
   "codemirror_mode": {
    "name": "ipython",
    "version": 3
   },
   "file_extension": ".py",
   "mimetype": "text/x-python",
   "name": "python",
   "nbconvert_exporter": "python",
   "pygments_lexer": "ipython3",
   "version": "3.11.4"
  }
 },
 "nbformat": 4,
 "nbformat_minor": 5
}
